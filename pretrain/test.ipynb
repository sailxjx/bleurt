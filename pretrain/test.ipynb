{
 "cells": [
  {
   "cell_type": "code",
   "execution_count": 1,
   "metadata": {
    "uuid": "fb1a49fb-2775-43ed-ba80-cd439465770d"
   },
   "outputs": [
    {
     "name": "stdout",
     "output_type": "stream",
     "text": [
      "0    1.000000\n",
      "1    0.326683\n",
      "2    0.326683\n",
      "3    0.308958\n",
      "4    0.658037\n",
      "5    0.000000\n",
      "dtype: float64\n"
     ]
    },
    {
     "data": {
      "text/plain": [
       "0    0.110387\n",
       "1    0.098619\n",
       "2    0.102891\n",
       "3    0.097941\n",
       "4    0.081711\n",
       "5    0.007797\n",
       "dtype: float64"
      ]
     },
     "execution_count": 1,
     "metadata": {},
     "output_type": "execute_result"
    }
   ],
   "source": [
    "import pandas as pd\n",
    "from nltk.translate.bleu_score import sentence_bleu\n",
    "\n",
    "references = [\"吴承恩是著名文学家\"] * 6\n",
    "candidates = \"\"\"\n",
    "吴承恩是著名文学家\n",
    "吴承恩是大作家\n",
    "吴承恩是作曲家\n",
    "吴承恩是运动员\n",
    "吴承恩不是著名文学家\n",
    "风马牛不相及\n",
    "\"\"\".strip().split(\"\\n\")\n",
    "\n",
    "bleu_score = []\n",
    "for ref, cand in zip(references, candidates):\n",
    "    bleu_score.append(sentence_bleu([ref], cand))\n",
    "bleu_score = pd.Series(bleu_score)\n",
    "    \n",
    "print(bleu_score)\n",
    "bleurt_score = pd.Series([0.8896132111549377, 0.22806376218795776, 0.22379213571548462, 0.21101689338684082, 0.5763261318206787, -0.007796883583068848])\n",
    "bleu_score - bleurt_score"
   ]
  }
 ],
 "metadata": {
  "kernelspec": {
   "display_name": "Python 3",
   "language": "python",
   "name": "python3"
  },
  "language_info": {
   "codemirror_mode": {
    "name": "ipython",
    "version": 3
   },
   "file_extension": ".py",
   "mimetype": "text/x-python",
   "name": "python",
   "nbconvert_exporter": "python",
   "pygments_lexer": "ipython3",
   "version": "3.6.9"
  }
 },
 "nbformat": 4,
 "nbformat_minor": 4
}
